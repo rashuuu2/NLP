{
 "cells": [
  {
   "cell_type": "markdown",
   "id": "1e60952d-674e-431b-be35-4cdd03e31deb",
   "metadata": {},
   "source": [
    "Stemming"
   ]
  },
  {
   "cell_type": "markdown",
   "id": "1f90ac98-b423-4123-90ae-e4da0aef1cc4",
   "metadata": {},
   "source": [
    "Stemming\n",
    "Stemming is the process of reducing a word to its word stem that affixes to suffixes and prefixes or to the roots of words known as a lemma. Stemming is important in natural language understanding (NLU) and natural language processing (NLP)."
   ]
  },
  {
   "cell_type": "code",
   "execution_count": 1,
   "id": "70a55013-3eb6-4e14-92d2-48e284349209",
   "metadata": {},
   "outputs": [],
   "source": [
    "## Classification Problem\n",
    "## Comments of product is a positive review or negative review\n",
    "## Reviews----> eating, eat,eaten [going,gone,goes]--->go\n",
    "\n",
    "words=[\"eating\",\"eats\",\"eaten\",\"writing\",\"writes\",\"programming\",\"programs\",\"history\",\"finally\",\"finalized\"]\n"
   ]
  },
  {
   "cell_type": "markdown",
   "id": "68b8d847-0f31-46a2-8f87-3cc4195527cb",
   "metadata": {},
   "source": [
    "Porter stemmer"
   ]
  },
  {
   "cell_type": "code",
   "execution_count": 2,
   "id": "95711703-b435-458b-a60f-44857315b501",
   "metadata": {},
   "outputs": [],
   "source": [
    "from nltk.stem import PorterStemmer"
   ]
  },
  {
   "cell_type": "code",
   "execution_count": 3,
   "id": "db0f5907-e39a-4f77-99a1-d8deedfbc546",
   "metadata": {},
   "outputs": [],
   "source": [
    "stemming=PorterStemmer()"
   ]
  },
  {
   "cell_type": "code",
   "execution_count": 4,
   "id": "9d82293b-2dfb-4ab2-ba9a-84351e49f770",
   "metadata": {},
   "outputs": [
    {
     "name": "stdout",
     "output_type": "stream",
     "text": [
      "eating---->eat\n",
      "eats---->eat\n",
      "eaten---->eaten\n",
      "writing---->write\n",
      "writes---->write\n",
      "programming---->program\n",
      "programs---->program\n",
      "history---->histori\n",
      "finally---->final\n",
      "finalized---->final\n"
     ]
    }
   ],
   "source": [
    "for word in words:\n",
    "    print(word+\"---->\"+stemming.stem(word))"
   ]
  },
  {
   "cell_type": "code",
   "execution_count": 5,
   "id": "42a557e7-58ef-48fd-a7a8-4c660a18007d",
   "metadata": {},
   "outputs": [
    {
     "data": {
      "text/plain": [
       "'congragul'"
      ]
     },
     "execution_count": 5,
     "metadata": {},
     "output_type": "execute_result"
    }
   ],
   "source": [
    "stemming.stem('congragulation')"
   ]
  },
  {
   "cell_type": "code",
   "execution_count": 6,
   "id": "f238a3fb-5fbd-4249-b753-64dbd8a163b0",
   "metadata": {},
   "outputs": [
    {
     "data": {
      "text/plain": [
       "'sit'"
      ]
     },
     "execution_count": 6,
     "metadata": {},
     "output_type": "execute_result"
    }
   ],
   "source": [
    "stemming.stem(\"sitting\")"
   ]
  },
  {
   "cell_type": "markdown",
   "id": "ef277a55-abad-435b-a682-dff22f966d55",
   "metadata": {},
   "source": [
    "RegexpStemmer class"
   ]
  },
  {
   "cell_type": "markdown",
   "id": "636eae32-92b9-4fa4-ad2e-67d6c181f9a8",
   "metadata": {},
   "source": [
    "RegexpStemmer class\n",
    "NLTK has RegexpStemmer class with the help of which we can easily implement Regular Expression Stemmer algorithms. It basically takes a single regular expression and removes any prefix or suffix that matches the expression. Let us see an example"
   ]
  },
  {
   "cell_type": "code",
   "execution_count": 7,
   "id": "0d9e7bb8-847d-42cd-aad7-21e2b8f557fc",
   "metadata": {},
   "outputs": [],
   "source": [
    "from nltk.stem import RegexpStemmer"
   ]
  },
  {
   "cell_type": "code",
   "execution_count": 8,
   "id": "e6e15897-6016-41e8-8cfb-cff7ca54ee9b",
   "metadata": {},
   "outputs": [],
   "source": [
    "reg_stemmer=RegexpStemmer('ing$|s$|e$|able$', min=4) ##it will remover ing,s,e or able from the last of word"
   ]
  },
  {
   "cell_type": "code",
   "execution_count": 9,
   "id": "609c6ca4-db85-43ff-a58d-4d1dac5a106e",
   "metadata": {},
   "outputs": [
    {
     "data": {
      "text/plain": [
       "'eat'"
      ]
     },
     "execution_count": 9,
     "metadata": {},
     "output_type": "execute_result"
    }
   ],
   "source": [
    "reg_stemmer.stem('eating') "
   ]
  },
  {
   "cell_type": "code",
   "execution_count": 10,
   "id": "943214cf-01f1-4b34-b2a3-0b4b97026720",
   "metadata": {},
   "outputs": [
    {
     "data": {
      "text/plain": [
       "'ingeat'"
      ]
     },
     "execution_count": 10,
     "metadata": {},
     "output_type": "execute_result"
    }
   ],
   "source": [
    "reg_stemmer.stem('ingeating')"
   ]
  },
  {
   "cell_type": "markdown",
   "id": "954c1cbd-6dba-418a-baca-fd51cf5ab1e6",
   "metadata": {},
   "source": [
    "Snowball stemmer"
   ]
  },
  {
   "cell_type": "code",
   "execution_count": 12,
   "id": "c88c4d56-c7ff-400c-ab41-bbfb1be157d2",
   "metadata": {},
   "outputs": [],
   "source": [
    "from nltk.stem import SnowballStemmer"
   ]
  },
  {
   "cell_type": "code",
   "execution_count": 14,
   "id": "467b604e-d0dc-4632-b3fb-0d6770bc84fc",
   "metadata": {},
   "outputs": [],
   "source": [
    "snowballstemmer=SnowballStemmer('english')"
   ]
  },
  {
   "cell_type": "code",
   "execution_count": 17,
   "id": "b196bdd0-2099-4640-a4e4-3e1b2ba4fd90",
   "metadata": {},
   "outputs": [
    {
     "name": "stdout",
     "output_type": "stream",
     "text": [
      "eating---->eat\n",
      "eats---->eat\n",
      "eaten---->eaten\n",
      "writing---->write\n",
      "writes---->write\n",
      "programming---->program\n",
      "programs---->program\n",
      "history---->histori\n",
      "finally---->final\n",
      "finalized---->final\n"
     ]
    }
   ],
   "source": [
    "for word in words:\n",
    "    print(word+\"---->\"+snowballstemmer.stem(word))"
   ]
  },
  {
   "cell_type": "code",
   "execution_count": 18,
   "id": "d899aacc-70e3-478c-ba92-32888aa6ad3b",
   "metadata": {},
   "outputs": [
    {
     "data": {
      "text/plain": [
       "('fairli', 'sportingli')"
      ]
     },
     "execution_count": 18,
     "metadata": {},
     "output_type": "execute_result"
    }
   ],
   "source": [
    "stemming.stem(\"fairly\"),stemming.stem(\"sportingly\")"
   ]
  },
  {
   "cell_type": "code",
   "execution_count": 20,
   "id": "cc65fe4d-9809-4fbc-8db9-d56659045085",
   "metadata": {},
   "outputs": [
    {
     "data": {
      "text/plain": [
       "('fair', 'sport')"
      ]
     },
     "execution_count": 20,
     "metadata": {},
     "output_type": "execute_result"
    }
   ],
   "source": [
    "snowballstemmer.stem(\"fairly\"),snowballstemmer.stem(\"sportingly\")"
   ]
  },
  {
   "cell_type": "code",
   "execution_count": 21,
   "id": "8c4e5a07-14fe-458e-b16d-63db5bd861b7",
   "metadata": {},
   "outputs": [],
   "source": [
    "## it give better output than porter stemmer"
   ]
  },
  {
   "cell_type": "code",
   "execution_count": 22,
   "id": "425028be-3379-46fe-bcac-1d5ca7b57082",
   "metadata": {},
   "outputs": [
    {
     "data": {
      "text/plain": [
       "'goe'"
      ]
     },
     "execution_count": 22,
     "metadata": {},
     "output_type": "execute_result"
    }
   ],
   "source": [
    "snowballstemmer.stem('goes')"
   ]
  },
  {
   "cell_type": "code",
   "execution_count": 23,
   "id": "e18de13d-3bbe-4459-82b6-24f9703c8e37",
   "metadata": {},
   "outputs": [
    {
     "data": {
      "text/plain": [
       "'goe'"
      ]
     },
     "execution_count": 23,
     "metadata": {},
     "output_type": "execute_result"
    }
   ],
   "source": [
    "stemming.stem('goes')"
   ]
  },
  {
   "cell_type": "code",
   "execution_count": 25,
   "id": "0350316d-a312-4b2f-9a5d-686085466acd",
   "metadata": {},
   "outputs": [],
   "source": [
    "## DISADVANTAGE OF STEMMING\n",
    "##sometimes it doesnt provide meaningful word since we study further about lemminization for proper meaningful word"
   ]
  },
  {
   "cell_type": "code",
   "execution_count": null,
   "id": "f7d63806-de8c-42dd-9ee4-621d02cbed56",
   "metadata": {},
   "outputs": [],
   "source": []
  }
 ],
 "metadata": {
  "kernelspec": {
   "display_name": "Python 3 (ipykernel)",
   "language": "python",
   "name": "python3"
  },
  "language_info": {
   "codemirror_mode": {
    "name": "ipython",
    "version": 3
   },
   "file_extension": ".py",
   "mimetype": "text/x-python",
   "name": "python",
   "nbconvert_exporter": "python",
   "pygments_lexer": "ipython3",
   "version": "3.13.5"
  }
 },
 "nbformat": 4,
 "nbformat_minor": 5
}
